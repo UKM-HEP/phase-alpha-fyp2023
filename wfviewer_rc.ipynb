{
 "cells": [
  {
   "cell_type": "markdown",
   "id": "f870c4e6-6be4-4f0e-b109-1f7931984293",
   "metadata": {},
   "source": [
    "First we import PyROOT."
   ]
  },
  {
   "cell_type": "code",
   "execution_count": 1,
   "id": "909d506f-aafc-4a32-ae1c-6515f17dac40",
   "metadata": {},
   "outputs": [
    {
     "name": "stdout",
     "output_type": "stream",
     "text": [
      "Welcome to JupyROOT 6.26/06\n"
     ]
    }
   ],
   "source": [
    "import ROOT"
   ]
  },
  {
   "cell_type": "markdown",
   "id": "4a050fbd-1f14-422e-9eae-9fc8a50f6993",
   "metadata": {},
   "source": [
    "Next, we specify which data file we want to plot the waveform."
   ]
  },
  {
   "cell_type": "code",
   "execution_count": 2,
   "id": "0232075c-4b61-43bf-8355-eb3ea104c620",
   "metadata": {},
   "outputs": [],
   "source": [
    "rootfn = '~/comet/phaseAlpha-decdata/rawdata04067.root'"
   ]
  },
  {
   "cell_type": "markdown",
   "id": "a93d4207-c7fa-4ec8-9d55-21506c9c0d00",
   "metadata": {},
   "source": [
    "Tell ROOT to load the data file."
   ]
  },
  {
   "cell_type": "code",
   "execution_count": 3,
   "id": "57c9140d-e532-45df-9b78-1f5d6c646694",
   "metadata": {},
   "outputs": [],
   "source": [
    "f = ROOT.TFile(rootfn)"
   ]
  },
  {
   "cell_type": "markdown",
   "id": "32e1910c-a63a-4bd6-b0ce-c7af23ce6fdf",
   "metadata": {},
   "source": [
    "Now get the tree named 'tr' which stores the waveforms."
   ]
  },
  {
   "cell_type": "code",
   "execution_count": 4,
   "id": "dbb9ed85-ad37-4566-8fc9-066ce0ebb611",
   "metadata": {},
   "outputs": [],
   "source": [
    "t = f.Get(\"tr\")"
   ]
  },
  {
   "cell_type": "markdown",
   "id": "119aded6-a4da-48dd-8e65-dcf85f9be8d8",
   "metadata": {},
   "source": [
    "We just want to know how many events there are in this data file."
   ]
  },
  {
   "cell_type": "code",
   "execution_count": 5,
   "id": "d5e26304-e877-47a9-b38e-a45713ad3ced",
   "metadata": {},
   "outputs": [
    {
     "name": "stdout",
     "output_type": "stream",
     "text": [
      "Number of events:  2075\n"
     ]
    }
   ],
   "source": [
    "nEvents = t.GetEntries()\n",
    "print(\"Number of events: \", nEvents)"
   ]
  },
  {
   "cell_type": "markdown",
   "id": "3c2758aa-2286-463f-a1bd-5bab617a0005",
   "metadata": {},
   "source": [
    "Here, we select the event number of which we want to see the waveforms (first event is 0). (Returned number is the bytes read.)"
   ]
  },
  {
   "cell_type": "code",
   "execution_count": 6,
   "id": "f391ff3d-f169-4a38-bebf-958821cd9e2e",
   "metadata": {},
   "outputs": [
    {
     "data": {
      "text/plain": [
       "305735"
      ]
     },
     "execution_count": 6,
     "metadata": {},
     "output_type": "execute_result"
    }
   ],
   "source": [
    "t.GetEntry(20)"
   ]
  },
  {
   "cell_type": "markdown",
   "id": "1faf8ced-2756-4b1e-b155-545fcbdde8c7",
   "metadata": {},
   "source": [
    "Now we are ready to plot. Load the MATPLOTLIB package."
   ]
  },
  {
   "cell_type": "code",
   "execution_count": 7,
   "id": "c1cea122-3535-4ecd-a101-244815627db4",
   "metadata": {},
   "outputs": [],
   "source": [
    "import matplotlib.pyplot as plt"
   ]
  },
  {
   "cell_type": "markdown",
   "id": "d6acae04-edfe-47f8-8d44-6e742a108a9b",
   "metadata": {},
   "source": [
    "Now we plot the first waveform from branch 'pwfA'. This is the T0R signal. Note in PyROOT we can straight away put the t's branch into MATPLOTLIB's plot function."
   ]
  },
  {
   "cell_type": "code",
   "execution_count": 8,
   "id": "00036c91-28f5-4fa3-a0b2-d1fc019dc346",
   "metadata": {},
   "outputs": [
    {
     "data": {
      "text/plain": [
       "[<matplotlib.lines.Line2D at 0x7f41e3022f80>]"
      ]
     },
     "execution_count": 8,
     "metadata": {},
     "output_type": "execute_result"
    },
    {
     "data": {
      "image/png": "[encoded data removed]",
      "text/plain": [
       "<Figure size 432x288 with 1 Axes>"
      ]
     },
     "metadata": {
      "needs_background": "light"
     },
     "output_type": "display_data"
    }
   ],
   "source": [
    "plt.plot(t.pwfA)"
   ]
  },
  {
   "cell_type": "markdown",
   "id": "7735616a-1f12-4b91-956c-bd22f392aa46",
   "metadata": {},
   "source": [
    "Next, we plot the second waveform. This is the T0L signal:"
   ]
  },
  {
   "cell_type": "code",
   "execution_count": 9,
   "id": "be6912fe-399e-427f-b1f5-a0b53bf70ba0",
   "metadata": {},
   "outputs": [
    {
     "data": {
      "text/plain": [
       "[<matplotlib.lines.Line2D at 0x7f41dad281c0>]"
      ]
     },
     "execution_count": 9,
     "metadata": {},
     "output_type": "execute_result"
    },
    {
     "data": {
      "image/png": "[encoded data removed]",
      "text/plain": [
       "<Figure size 432x288 with 1 Axes>"
      ]
     },
     "metadata": {
      "needs_background": "light"
     },
     "output_type": "display_data"
    }
   ],
   "source": [
    "plt.plot(t.pwfB)"
   ]
  },
  {
   "cell_type": "markdown",
   "id": "77741787-659a-49d4-93c9-a9f1d80c184c",
   "metadata": {},
   "source": [
    "This is the third waveform. This is the T1 signal:"
   ]
  },
  {
   "cell_type": "code",
   "execution_count": 10,
   "id": "99434316-6eea-4e2e-8359-418c6dae8eaa",
   "metadata": {},
   "outputs": [
    {
     "data": {
      "text/plain": [
       "[<matplotlib.lines.Line2D at 0x7f41e2e73790>]"
      ]
     },
     "execution_count": 10,
     "metadata": {},
     "output_type": "execute_result"
    },
    {
     "data": {
      "image/png": "[encoded data removed]",
      "text/plain": [
       "<Figure size 432x288 with 1 Axes>"
      ]
     },
     "metadata": {
      "needs_background": "light"
     },
     "output_type": "display_data"
    }
   ],
   "source": [
    "plt.plot(t.pwfC)"
   ]
  },
  {
   "cell_type": "markdown",
   "id": "80699dfc-d8dc-43d7-8c6a-7718bb33192a",
   "metadata": {},
   "source": [
    "And finally, the last waveform. This is the T2 signal:"
   ]
  },
  {
   "cell_type": "code",
   "execution_count": 11,
   "id": "783cbde8-b12d-4445-9669-86fc52244bd7",
   "metadata": {},
   "outputs": [
    {
     "data": {
      "text/plain": [
       "[<matplotlib.lines.Line2D at 0x7f41dad4b7c0>]"
      ]
     },
     "execution_count": 11,
     "metadata": {},
     "output_type": "execute_result"
    },
    {
     "data": {
      "image/png": "[encoded data removed]",
      "text/plain": [
       "<Figure size 432x288 with 1 Axes>"
      ]
     },
     "metadata": {
      "needs_background": "light"
     },
     "output_type": "display_data"
    }
   ],
   "source": [
    "plt.plot(t.pwfD)"
   ]
  },
  {
   "cell_type": "markdown",
   "id": "7d7544cf-8737-4997-9509-3c3c9d0302f4",
   "metadata": {},
   "source": [
    "We are done. We can close the file now."
   ]
  },
  {
   "cell_type": "code",
   "execution_count": 12,
   "id": "b29806a2-549e-4172-b6f0-5f9122b641c9",
   "metadata": {},
   "outputs": [],
   "source": [
    "f.Close()"
   ]
  },
  {
   "cell_type": "code",
   "execution_count": null,
   "id": "55f79b56-dac0-4f5d-bf83-7724f00eaa85",
   "metadata": {},
   "outputs": [],
   "source": []
  }
 ],
 "metadata": {
  "kernelspec": {
   "display_name": "Python 3 (ipykernel)",
   "language": "python",
   "name": "python3"
  },
  "language_info": {
   "codemirror_mode": {
    "name": "ipython",
    "version": 3
   },
   "file_extension": ".py",
   "mimetype": "text/x-python",
   "name": "python",
   "nbconvert_exporter": "python",
   "pygments_lexer": "ipython3",
   "version": "3.10.4"
  }
 },
 "nbformat": 4,
 "nbformat_minor": 5
}
